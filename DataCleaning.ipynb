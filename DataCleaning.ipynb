{
 "cells": [
  {
   "cell_type": "code",
   "execution_count": 3,
   "metadata": {},
   "outputs": [],
   "source": [
    "import pandas as pd"
   ]
  },
  {
   "cell_type": "code",
   "execution_count": 4,
   "metadata": {},
   "outputs": [],
   "source": [
    "import numpy as np"
   ]
  },
  {
   "cell_type": "code",
   "execution_count": 5,
   "metadata": {},
   "outputs": [],
   "source": [
    "import matplotlib.pyplot as plt"
   ]
  },
  {
   "cell_type": "code",
   "execution_count": 6,
   "metadata": {},
   "outputs": [],
   "source": [
    "movies_df = pd.read_csv('C:/Users/user/Desktop/IMDb/IMDb movies.csv')"
   ]
  },
  {
   "cell_type": "code",
   "execution_count": 7,
   "metadata": {},
   "outputs": [
    {
     "data": {
      "text/html": [
       "<div>\n",
       "<style scoped>\n",
       "    .dataframe tbody tr th:only-of-type {\n",
       "        vertical-align: middle;\n",
       "    }\n",
       "\n",
       "    .dataframe tbody tr th {\n",
       "        vertical-align: top;\n",
       "    }\n",
       "\n",
       "    .dataframe thead th {\n",
       "        text-align: right;\n",
       "    }\n",
       "</style>\n",
       "<table border=\"1\" class=\"dataframe\">\n",
       "  <thead>\n",
       "    <tr style=\"text-align: right;\">\n",
       "      <th></th>\n",
       "      <th>imdb_title_id</th>\n",
       "      <th>title</th>\n",
       "      <th>original_title</th>\n",
       "      <th>year</th>\n",
       "      <th>date_published</th>\n",
       "      <th>genre</th>\n",
       "      <th>duration</th>\n",
       "      <th>country</th>\n",
       "      <th>language</th>\n",
       "      <th>director</th>\n",
       "      <th>...</th>\n",
       "      <th>actors</th>\n",
       "      <th>description</th>\n",
       "      <th>avg_vote</th>\n",
       "      <th>votes</th>\n",
       "      <th>budget</th>\n",
       "      <th>usa_gross_income</th>\n",
       "      <th>worlwide_gross_income</th>\n",
       "      <th>metascore</th>\n",
       "      <th>reviews_from_users</th>\n",
       "      <th>reviews_from_critics</th>\n",
       "    </tr>\n",
       "  </thead>\n",
       "  <tbody>\n",
       "    <tr>\n",
       "      <th>0</th>\n",
       "      <td>tt0000574</td>\n",
       "      <td>The Story of the Kelly Gang</td>\n",
       "      <td>The Story of the Kelly Gang</td>\n",
       "      <td>1906</td>\n",
       "      <td>1906-12-26</td>\n",
       "      <td>Biography, Crime, Drama</td>\n",
       "      <td>70</td>\n",
       "      <td>Australia</td>\n",
       "      <td>NaN</td>\n",
       "      <td>Charles Tait</td>\n",
       "      <td>...</td>\n",
       "      <td>Elizabeth Tait, John Tait, Norman Campbell, Be...</td>\n",
       "      <td>True story of notorious Australian outlaw Ned ...</td>\n",
       "      <td>6.1</td>\n",
       "      <td>537</td>\n",
       "      <td>$ 2250</td>\n",
       "      <td>NaN</td>\n",
       "      <td>NaN</td>\n",
       "      <td>NaN</td>\n",
       "      <td>7.0</td>\n",
       "      <td>7.0</td>\n",
       "    </tr>\n",
       "    <tr>\n",
       "      <th>1</th>\n",
       "      <td>tt0001892</td>\n",
       "      <td>Den sorte drøm</td>\n",
       "      <td>Den sorte drøm</td>\n",
       "      <td>1911</td>\n",
       "      <td>1911-08-19</td>\n",
       "      <td>Drama</td>\n",
       "      <td>53</td>\n",
       "      <td>Germany, Denmark</td>\n",
       "      <td>NaN</td>\n",
       "      <td>Urban Gad</td>\n",
       "      <td>...</td>\n",
       "      <td>Asta Nielsen, Valdemar Psilander, Gunnar Helse...</td>\n",
       "      <td>Two men of high rank are both wooing the beaut...</td>\n",
       "      <td>5.9</td>\n",
       "      <td>171</td>\n",
       "      <td>NaN</td>\n",
       "      <td>NaN</td>\n",
       "      <td>NaN</td>\n",
       "      <td>NaN</td>\n",
       "      <td>4.0</td>\n",
       "      <td>2.0</td>\n",
       "    </tr>\n",
       "    <tr>\n",
       "      <th>2</th>\n",
       "      <td>tt0002101</td>\n",
       "      <td>Cleopatra</td>\n",
       "      <td>Cleopatra</td>\n",
       "      <td>1912</td>\n",
       "      <td>1912-11-13</td>\n",
       "      <td>Drama, History</td>\n",
       "      <td>100</td>\n",
       "      <td>USA</td>\n",
       "      <td>English</td>\n",
       "      <td>Charles L. Gaskill</td>\n",
       "      <td>...</td>\n",
       "      <td>Helen Gardner, Pearl Sindelar, Miss Fielding, ...</td>\n",
       "      <td>The fabled queen of Egypt's affair with Roman ...</td>\n",
       "      <td>5.2</td>\n",
       "      <td>420</td>\n",
       "      <td>$ 45000</td>\n",
       "      <td>NaN</td>\n",
       "      <td>NaN</td>\n",
       "      <td>NaN</td>\n",
       "      <td>24.0</td>\n",
       "      <td>3.0</td>\n",
       "    </tr>\n",
       "    <tr>\n",
       "      <th>3</th>\n",
       "      <td>tt0002130</td>\n",
       "      <td>L'Inferno</td>\n",
       "      <td>L'Inferno</td>\n",
       "      <td>1911</td>\n",
       "      <td>1911-03-06</td>\n",
       "      <td>Adventure, Drama, Fantasy</td>\n",
       "      <td>68</td>\n",
       "      <td>Italy</td>\n",
       "      <td>Italian</td>\n",
       "      <td>Francesco Bertolini, Adolfo Padovan</td>\n",
       "      <td>...</td>\n",
       "      <td>Salvatore Papa, Arturo Pirovano, Giuseppe de L...</td>\n",
       "      <td>Loosely adapted from Dante's Divine Comedy and...</td>\n",
       "      <td>7.0</td>\n",
       "      <td>2019</td>\n",
       "      <td>NaN</td>\n",
       "      <td>NaN</td>\n",
       "      <td>NaN</td>\n",
       "      <td>NaN</td>\n",
       "      <td>28.0</td>\n",
       "      <td>14.0</td>\n",
       "    </tr>\n",
       "    <tr>\n",
       "      <th>4</th>\n",
       "      <td>tt0002199</td>\n",
       "      <td>From the Manger to the Cross; or, Jesus of Naz...</td>\n",
       "      <td>From the Manger to the Cross; or, Jesus of Naz...</td>\n",
       "      <td>1912</td>\n",
       "      <td>1913</td>\n",
       "      <td>Biography, Drama</td>\n",
       "      <td>60</td>\n",
       "      <td>USA</td>\n",
       "      <td>English</td>\n",
       "      <td>Sidney Olcott</td>\n",
       "      <td>...</td>\n",
       "      <td>R. Henderson Bland, Percy Dyer, Gene Gauntier,...</td>\n",
       "      <td>An account of the life of Jesus Christ, based ...</td>\n",
       "      <td>5.7</td>\n",
       "      <td>438</td>\n",
       "      <td>NaN</td>\n",
       "      <td>NaN</td>\n",
       "      <td>NaN</td>\n",
       "      <td>NaN</td>\n",
       "      <td>12.0</td>\n",
       "      <td>5.0</td>\n",
       "    </tr>\n",
       "    <tr>\n",
       "      <th>...</th>\n",
       "      <td>...</td>\n",
       "      <td>...</td>\n",
       "      <td>...</td>\n",
       "      <td>...</td>\n",
       "      <td>...</td>\n",
       "      <td>...</td>\n",
       "      <td>...</td>\n",
       "      <td>...</td>\n",
       "      <td>...</td>\n",
       "      <td>...</td>\n",
       "      <td>...</td>\n",
       "      <td>...</td>\n",
       "      <td>...</td>\n",
       "      <td>...</td>\n",
       "      <td>...</td>\n",
       "      <td>...</td>\n",
       "      <td>...</td>\n",
       "      <td>...</td>\n",
       "      <td>...</td>\n",
       "      <td>...</td>\n",
       "      <td>...</td>\n",
       "    </tr>\n",
       "    <tr>\n",
       "      <th>81268</th>\n",
       "      <td>tt9903716</td>\n",
       "      <td>Jessie</td>\n",
       "      <td>Jessie</td>\n",
       "      <td>2019</td>\n",
       "      <td>2019-03-15</td>\n",
       "      <td>Horror, Thriller</td>\n",
       "      <td>106</td>\n",
       "      <td>India</td>\n",
       "      <td>Telugu</td>\n",
       "      <td>Aswani Kumar V.</td>\n",
       "      <td>...</td>\n",
       "      <td>Sritha Chandana, Pavani Gangireddy, Abhinav Go...</td>\n",
       "      <td>Set in an abandoned house, the film follows a ...</td>\n",
       "      <td>7.2</td>\n",
       "      <td>219</td>\n",
       "      <td>NaN</td>\n",
       "      <td>NaN</td>\n",
       "      <td>NaN</td>\n",
       "      <td>NaN</td>\n",
       "      <td>21.0</td>\n",
       "      <td>NaN</td>\n",
       "    </tr>\n",
       "    <tr>\n",
       "      <th>81269</th>\n",
       "      <td>tt9905412</td>\n",
       "      <td>Ottam</td>\n",
       "      <td>Ottam</td>\n",
       "      <td>2019</td>\n",
       "      <td>2019-03-08</td>\n",
       "      <td>Drama</td>\n",
       "      <td>120</td>\n",
       "      <td>India</td>\n",
       "      <td>Malayalam</td>\n",
       "      <td>Zam</td>\n",
       "      <td>...</td>\n",
       "      <td>Nandu Anand, Roshan Ullas, Manikandan R. Achar...</td>\n",
       "      <td>Set in Trivandrum, the story of Ottam unfolds ...</td>\n",
       "      <td>7.8</td>\n",
       "      <td>510</td>\n",
       "      <td>INR 4000000</td>\n",
       "      <td>NaN</td>\n",
       "      <td>$ 4791</td>\n",
       "      <td>NaN</td>\n",
       "      <td>NaN</td>\n",
       "      <td>NaN</td>\n",
       "    </tr>\n",
       "    <tr>\n",
       "      <th>81270</th>\n",
       "      <td>tt9905462</td>\n",
       "      <td>Pengalila</td>\n",
       "      <td>Pengalila</td>\n",
       "      <td>2019</td>\n",
       "      <td>2019-03-08</td>\n",
       "      <td>Drama</td>\n",
       "      <td>111</td>\n",
       "      <td>India</td>\n",
       "      <td>Malayalam</td>\n",
       "      <td>T.V. Chandran</td>\n",
       "      <td>...</td>\n",
       "      <td>Lal, Akshara Kishor, Iniya, Narain, Renji Pani...</td>\n",
       "      <td>An unusual bond between a sixty year old Dalit...</td>\n",
       "      <td>8.4</td>\n",
       "      <td>604</td>\n",
       "      <td>INR 10000000</td>\n",
       "      <td>NaN</td>\n",
       "      <td>NaN</td>\n",
       "      <td>NaN</td>\n",
       "      <td>NaN</td>\n",
       "      <td>NaN</td>\n",
       "    </tr>\n",
       "    <tr>\n",
       "      <th>81271</th>\n",
       "      <td>tt9911774</td>\n",
       "      <td>Padmavyuhathile Abhimanyu</td>\n",
       "      <td>Padmavyuhathile Abhimanyu</td>\n",
       "      <td>2019</td>\n",
       "      <td>2019-03-08</td>\n",
       "      <td>Drama</td>\n",
       "      <td>130</td>\n",
       "      <td>India</td>\n",
       "      <td>Malayalam</td>\n",
       "      <td>Vineesh Aaradya</td>\n",
       "      <td>...</td>\n",
       "      <td>Anoop Chandran, Indrans, Sona Nair, Simon Brit...</td>\n",
       "      <td>NaN</td>\n",
       "      <td>8.4</td>\n",
       "      <td>369</td>\n",
       "      <td>NaN</td>\n",
       "      <td>NaN</td>\n",
       "      <td>NaN</td>\n",
       "      <td>NaN</td>\n",
       "      <td>NaN</td>\n",
       "      <td>NaN</td>\n",
       "    </tr>\n",
       "    <tr>\n",
       "      <th>81272</th>\n",
       "      <td>tt9914286</td>\n",
       "      <td>Sokagin Çocuklari</td>\n",
       "      <td>Sokagin Çocuklari</td>\n",
       "      <td>2019</td>\n",
       "      <td>2019-03-15</td>\n",
       "      <td>Drama, Family</td>\n",
       "      <td>98</td>\n",
       "      <td>Turkey</td>\n",
       "      <td>Turkish</td>\n",
       "      <td>Ahmet Faik Akinci</td>\n",
       "      <td>...</td>\n",
       "      <td>Ahmet Faik Akinci, Belma Mamati, Metin Keçeci,...</td>\n",
       "      <td>NaN</td>\n",
       "      <td>7.2</td>\n",
       "      <td>190</td>\n",
       "      <td>NaN</td>\n",
       "      <td>NaN</td>\n",
       "      <td>$ 2833</td>\n",
       "      <td>NaN</td>\n",
       "      <td>NaN</td>\n",
       "      <td>NaN</td>\n",
       "    </tr>\n",
       "  </tbody>\n",
       "</table>\n",
       "<p>81273 rows × 22 columns</p>\n",
       "</div>"
      ],
      "text/plain": [
       "      imdb_title_id                                              title  \\\n",
       "0         tt0000574                        The Story of the Kelly Gang   \n",
       "1         tt0001892                                     Den sorte drøm   \n",
       "2         tt0002101                                          Cleopatra   \n",
       "3         tt0002130                                          L'Inferno   \n",
       "4         tt0002199  From the Manger to the Cross; or, Jesus of Naz...   \n",
       "...             ...                                                ...   \n",
       "81268     tt9903716                                             Jessie   \n",
       "81269     tt9905412                                              Ottam   \n",
       "81270     tt9905462                                          Pengalila   \n",
       "81271     tt9911774                          Padmavyuhathile Abhimanyu   \n",
       "81272     tt9914286                                  Sokagin Çocuklari   \n",
       "\n",
       "                                          original_title  year date_published  \\\n",
       "0                            The Story of the Kelly Gang  1906     1906-12-26   \n",
       "1                                         Den sorte drøm  1911     1911-08-19   \n",
       "2                                              Cleopatra  1912     1912-11-13   \n",
       "3                                              L'Inferno  1911     1911-03-06   \n",
       "4      From the Manger to the Cross; or, Jesus of Naz...  1912           1913   \n",
       "...                                                  ...   ...            ...   \n",
       "81268                                             Jessie  2019     2019-03-15   \n",
       "81269                                              Ottam  2019     2019-03-08   \n",
       "81270                                          Pengalila  2019     2019-03-08   \n",
       "81271                          Padmavyuhathile Abhimanyu  2019     2019-03-08   \n",
       "81272                                  Sokagin Çocuklari  2019     2019-03-15   \n",
       "\n",
       "                           genre  duration           country   language  \\\n",
       "0        Biography, Crime, Drama        70         Australia        NaN   \n",
       "1                          Drama        53  Germany, Denmark        NaN   \n",
       "2                 Drama, History       100               USA    English   \n",
       "3      Adventure, Drama, Fantasy        68             Italy    Italian   \n",
       "4               Biography, Drama        60               USA    English   \n",
       "...                          ...       ...               ...        ...   \n",
       "81268           Horror, Thriller       106             India     Telugu   \n",
       "81269                      Drama       120             India  Malayalam   \n",
       "81270                      Drama       111             India  Malayalam   \n",
       "81271                      Drama       130             India  Malayalam   \n",
       "81272              Drama, Family        98            Turkey    Turkish   \n",
       "\n",
       "                                  director  ...  \\\n",
       "0                             Charles Tait  ...   \n",
       "1                                Urban Gad  ...   \n",
       "2                       Charles L. Gaskill  ...   \n",
       "3      Francesco Bertolini, Adolfo Padovan  ...   \n",
       "4                            Sidney Olcott  ...   \n",
       "...                                    ...  ...   \n",
       "81268                      Aswani Kumar V.  ...   \n",
       "81269                                  Zam  ...   \n",
       "81270                        T.V. Chandran  ...   \n",
       "81271                      Vineesh Aaradya  ...   \n",
       "81272                    Ahmet Faik Akinci  ...   \n",
       "\n",
       "                                                  actors  \\\n",
       "0      Elizabeth Tait, John Tait, Norman Campbell, Be...   \n",
       "1      Asta Nielsen, Valdemar Psilander, Gunnar Helse...   \n",
       "2      Helen Gardner, Pearl Sindelar, Miss Fielding, ...   \n",
       "3      Salvatore Papa, Arturo Pirovano, Giuseppe de L...   \n",
       "4      R. Henderson Bland, Percy Dyer, Gene Gauntier,...   \n",
       "...                                                  ...   \n",
       "81268  Sritha Chandana, Pavani Gangireddy, Abhinav Go...   \n",
       "81269  Nandu Anand, Roshan Ullas, Manikandan R. Achar...   \n",
       "81270  Lal, Akshara Kishor, Iniya, Narain, Renji Pani...   \n",
       "81271  Anoop Chandran, Indrans, Sona Nair, Simon Brit...   \n",
       "81272  Ahmet Faik Akinci, Belma Mamati, Metin Keçeci,...   \n",
       "\n",
       "                                             description avg_vote votes  \\\n",
       "0      True story of notorious Australian outlaw Ned ...      6.1   537   \n",
       "1      Two men of high rank are both wooing the beaut...      5.9   171   \n",
       "2      The fabled queen of Egypt's affair with Roman ...      5.2   420   \n",
       "3      Loosely adapted from Dante's Divine Comedy and...      7.0  2019   \n",
       "4      An account of the life of Jesus Christ, based ...      5.7   438   \n",
       "...                                                  ...      ...   ...   \n",
       "81268  Set in an abandoned house, the film follows a ...      7.2   219   \n",
       "81269  Set in Trivandrum, the story of Ottam unfolds ...      7.8   510   \n",
       "81270  An unusual bond between a sixty year old Dalit...      8.4   604   \n",
       "81271                                                NaN      8.4   369   \n",
       "81272                                                NaN      7.2   190   \n",
       "\n",
       "             budget  usa_gross_income worlwide_gross_income metascore  \\\n",
       "0            $ 2250               NaN                   NaN       NaN   \n",
       "1               NaN               NaN                   NaN       NaN   \n",
       "2           $ 45000               NaN                   NaN       NaN   \n",
       "3               NaN               NaN                   NaN       NaN   \n",
       "4               NaN               NaN                   NaN       NaN   \n",
       "...             ...               ...                   ...       ...   \n",
       "81268           NaN               NaN                   NaN       NaN   \n",
       "81269   INR 4000000               NaN                $ 4791       NaN   \n",
       "81270  INR 10000000               NaN                   NaN       NaN   \n",
       "81271           NaN               NaN                   NaN       NaN   \n",
       "81272           NaN               NaN                $ 2833       NaN   \n",
       "\n",
       "      reviews_from_users  reviews_from_critics  \n",
       "0                    7.0                   7.0  \n",
       "1                    4.0                   2.0  \n",
       "2                   24.0                   3.0  \n",
       "3                   28.0                  14.0  \n",
       "4                   12.0                   5.0  \n",
       "...                  ...                   ...  \n",
       "81268               21.0                   NaN  \n",
       "81269                NaN                   NaN  \n",
       "81270                NaN                   NaN  \n",
       "81271                NaN                   NaN  \n",
       "81272                NaN                   NaN  \n",
       "\n",
       "[81273 rows x 22 columns]"
      ]
     },
     "execution_count": 7,
     "metadata": {},
     "output_type": "execute_result"
    }
   ],
   "source": [
    "movies_df"
   ]
  },
  {
   "cell_type": "code",
   "execution_count": 8,
   "metadata": {},
   "outputs": [
    {
     "data": {
      "text/html": [
       "<div>\n",
       "<style scoped>\n",
       "    .dataframe tbody tr th:only-of-type {\n",
       "        vertical-align: middle;\n",
       "    }\n",
       "\n",
       "    .dataframe tbody tr th {\n",
       "        vertical-align: top;\n",
       "    }\n",
       "\n",
       "    .dataframe thead th {\n",
       "        text-align: right;\n",
       "    }\n",
       "</style>\n",
       "<table border=\"1\" class=\"dataframe\">\n",
       "  <thead>\n",
       "    <tr style=\"text-align: right;\">\n",
       "      <th></th>\n",
       "      <th>imdb_title_id</th>\n",
       "      <th>title</th>\n",
       "      <th>original_title</th>\n",
       "      <th>year</th>\n",
       "      <th>date_published</th>\n",
       "      <th>genre</th>\n",
       "      <th>duration</th>\n",
       "      <th>avg_vote</th>\n",
       "      <th>votes</th>\n",
       "    </tr>\n",
       "  </thead>\n",
       "  <tbody>\n",
       "    <tr>\n",
       "      <th>0</th>\n",
       "      <td>tt0000574</td>\n",
       "      <td>The Story of the Kelly Gang</td>\n",
       "      <td>The Story of the Kelly Gang</td>\n",
       "      <td>1906</td>\n",
       "      <td>1906-12-26</td>\n",
       "      <td>Biography, Crime, Drama</td>\n",
       "      <td>70</td>\n",
       "      <td>6.1</td>\n",
       "      <td>537</td>\n",
       "    </tr>\n",
       "    <tr>\n",
       "      <th>1</th>\n",
       "      <td>tt0001892</td>\n",
       "      <td>Den sorte drøm</td>\n",
       "      <td>Den sorte drøm</td>\n",
       "      <td>1911</td>\n",
       "      <td>1911-08-19</td>\n",
       "      <td>Drama</td>\n",
       "      <td>53</td>\n",
       "      <td>5.9</td>\n",
       "      <td>171</td>\n",
       "    </tr>\n",
       "    <tr>\n",
       "      <th>2</th>\n",
       "      <td>tt0002101</td>\n",
       "      <td>Cleopatra</td>\n",
       "      <td>Cleopatra</td>\n",
       "      <td>1912</td>\n",
       "      <td>1912-11-13</td>\n",
       "      <td>Drama, History</td>\n",
       "      <td>100</td>\n",
       "      <td>5.2</td>\n",
       "      <td>420</td>\n",
       "    </tr>\n",
       "    <tr>\n",
       "      <th>3</th>\n",
       "      <td>tt0002130</td>\n",
       "      <td>L'Inferno</td>\n",
       "      <td>L'Inferno</td>\n",
       "      <td>1911</td>\n",
       "      <td>1911-03-06</td>\n",
       "      <td>Adventure, Drama, Fantasy</td>\n",
       "      <td>68</td>\n",
       "      <td>7.0</td>\n",
       "      <td>2019</td>\n",
       "    </tr>\n",
       "    <tr>\n",
       "      <th>4</th>\n",
       "      <td>tt0002199</td>\n",
       "      <td>From the Manger to the Cross; or, Jesus of Naz...</td>\n",
       "      <td>From the Manger to the Cross; or, Jesus of Naz...</td>\n",
       "      <td>1912</td>\n",
       "      <td>1913</td>\n",
       "      <td>Biography, Drama</td>\n",
       "      <td>60</td>\n",
       "      <td>5.7</td>\n",
       "      <td>438</td>\n",
       "    </tr>\n",
       "    <tr>\n",
       "      <th>...</th>\n",
       "      <td>...</td>\n",
       "      <td>...</td>\n",
       "      <td>...</td>\n",
       "      <td>...</td>\n",
       "      <td>...</td>\n",
       "      <td>...</td>\n",
       "      <td>...</td>\n",
       "      <td>...</td>\n",
       "      <td>...</td>\n",
       "    </tr>\n",
       "    <tr>\n",
       "      <th>81268</th>\n",
       "      <td>tt9903716</td>\n",
       "      <td>Jessie</td>\n",
       "      <td>Jessie</td>\n",
       "      <td>2019</td>\n",
       "      <td>2019-03-15</td>\n",
       "      <td>Horror, Thriller</td>\n",
       "      <td>106</td>\n",
       "      <td>7.2</td>\n",
       "      <td>219</td>\n",
       "    </tr>\n",
       "    <tr>\n",
       "      <th>81269</th>\n",
       "      <td>tt9905412</td>\n",
       "      <td>Ottam</td>\n",
       "      <td>Ottam</td>\n",
       "      <td>2019</td>\n",
       "      <td>2019-03-08</td>\n",
       "      <td>Drama</td>\n",
       "      <td>120</td>\n",
       "      <td>7.8</td>\n",
       "      <td>510</td>\n",
       "    </tr>\n",
       "    <tr>\n",
       "      <th>81270</th>\n",
       "      <td>tt9905462</td>\n",
       "      <td>Pengalila</td>\n",
       "      <td>Pengalila</td>\n",
       "      <td>2019</td>\n",
       "      <td>2019-03-08</td>\n",
       "      <td>Drama</td>\n",
       "      <td>111</td>\n",
       "      <td>8.4</td>\n",
       "      <td>604</td>\n",
       "    </tr>\n",
       "    <tr>\n",
       "      <th>81271</th>\n",
       "      <td>tt9911774</td>\n",
       "      <td>Padmavyuhathile Abhimanyu</td>\n",
       "      <td>Padmavyuhathile Abhimanyu</td>\n",
       "      <td>2019</td>\n",
       "      <td>2019-03-08</td>\n",
       "      <td>Drama</td>\n",
       "      <td>130</td>\n",
       "      <td>8.4</td>\n",
       "      <td>369</td>\n",
       "    </tr>\n",
       "    <tr>\n",
       "      <th>81272</th>\n",
       "      <td>tt9914286</td>\n",
       "      <td>Sokagin Çocuklari</td>\n",
       "      <td>Sokagin Çocuklari</td>\n",
       "      <td>2019</td>\n",
       "      <td>2019-03-15</td>\n",
       "      <td>Drama, Family</td>\n",
       "      <td>98</td>\n",
       "      <td>7.2</td>\n",
       "      <td>190</td>\n",
       "    </tr>\n",
       "  </tbody>\n",
       "</table>\n",
       "<p>81273 rows × 9 columns</p>\n",
       "</div>"
      ],
      "text/plain": [
       "      imdb_title_id                                              title  \\\n",
       "0         tt0000574                        The Story of the Kelly Gang   \n",
       "1         tt0001892                                     Den sorte drøm   \n",
       "2         tt0002101                                          Cleopatra   \n",
       "3         tt0002130                                          L'Inferno   \n",
       "4         tt0002199  From the Manger to the Cross; or, Jesus of Naz...   \n",
       "...             ...                                                ...   \n",
       "81268     tt9903716                                             Jessie   \n",
       "81269     tt9905412                                              Ottam   \n",
       "81270     tt9905462                                          Pengalila   \n",
       "81271     tt9911774                          Padmavyuhathile Abhimanyu   \n",
       "81272     tt9914286                                  Sokagin Çocuklari   \n",
       "\n",
       "                                          original_title  year date_published  \\\n",
       "0                            The Story of the Kelly Gang  1906     1906-12-26   \n",
       "1                                         Den sorte drøm  1911     1911-08-19   \n",
       "2                                              Cleopatra  1912     1912-11-13   \n",
       "3                                              L'Inferno  1911     1911-03-06   \n",
       "4      From the Manger to the Cross; or, Jesus of Naz...  1912           1913   \n",
       "...                                                  ...   ...            ...   \n",
       "81268                                             Jessie  2019     2019-03-15   \n",
       "81269                                              Ottam  2019     2019-03-08   \n",
       "81270                                          Pengalila  2019     2019-03-08   \n",
       "81271                          Padmavyuhathile Abhimanyu  2019     2019-03-08   \n",
       "81272                                  Sokagin Çocuklari  2019     2019-03-15   \n",
       "\n",
       "                           genre  duration  avg_vote  votes  \n",
       "0        Biography, Crime, Drama        70       6.1    537  \n",
       "1                          Drama        53       5.9    171  \n",
       "2                 Drama, History       100       5.2    420  \n",
       "3      Adventure, Drama, Fantasy        68       7.0   2019  \n",
       "4               Biography, Drama        60       5.7    438  \n",
       "...                          ...       ...       ...    ...  \n",
       "81268           Horror, Thriller       106       7.2    219  \n",
       "81269                      Drama       120       7.8    510  \n",
       "81270                      Drama       111       8.4    604  \n",
       "81271                      Drama       130       8.4    369  \n",
       "81272              Drama, Family        98       7.2    190  \n",
       "\n",
       "[81273 rows x 9 columns]"
      ]
     },
     "execution_count": 8,
     "metadata": {},
     "output_type": "execute_result"
    }
   ],
   "source": [
    "movies_df.dropna(axis=1)"
   ]
  },
  {
   "cell_type": "code",
   "execution_count": 9,
   "metadata": {},
   "outputs": [],
   "source": [
    "movies_df.duration = movies_df.duration.fillna(movies_df.duration.mean())"
   ]
  },
  {
   "cell_type": "code",
   "execution_count": 10,
   "metadata": {},
   "outputs": [],
   "source": [
    "X = movies_df.iloc[:, :-1].values"
   ]
  },
  {
   "cell_type": "code",
   "execution_count": 11,
   "metadata": {},
   "outputs": [],
   "source": [
    "y = movies_df.iloc[:, -1].values"
   ]
  },
  {
   "cell_type": "code",
   "execution_count": 12,
   "metadata": {},
   "outputs": [
    {
     "name": "stdout",
     "output_type": "stream",
     "text": [
      "Index(['imdb_title_id', 'title', 'original_title', 'year', 'date_published',\n",
      "       'genre', 'duration', 'country', 'language', 'director', 'writer',\n",
      "       'production_company', 'actors', 'description', 'avg_vote', 'votes',\n",
      "       'budget', 'usa_gross_income', 'worlwide_gross_income', 'metascore',\n",
      "       'reviews_from_users', 'reviews_from_critics'],\n",
      "      dtype='object')\n"
     ]
    }
   ],
   "source": [
    "column_names = movies_df.columns\n",
    "print(column_names)"
   ]
  },
  {
   "cell_type": "code",
   "execution_count": 13,
   "metadata": {},
   "outputs": [
    {
     "data": {
      "text/plain": [
       "imdb_title_id             object\n",
       "title                     object\n",
       "original_title            object\n",
       "year                       int64\n",
       "date_published            object\n",
       "genre                     object\n",
       "duration                   int64\n",
       "country                   object\n",
       "language                  object\n",
       "director                  object\n",
       "writer                    object\n",
       "production_company        object\n",
       "actors                    object\n",
       "description               object\n",
       "avg_vote                 float64\n",
       "votes                      int64\n",
       "budget                    object\n",
       "usa_gross_income          object\n",
       "worlwide_gross_income     object\n",
       "metascore                float64\n",
       "reviews_from_users       float64\n",
       "reviews_from_critics     float64\n",
       "dtype: object"
      ]
     },
     "execution_count": 13,
     "metadata": {},
     "output_type": "execute_result"
    }
   ],
   "source": [
    "movies_df.dtypes"
   ]
  },
  {
   "cell_type": "code",
   "execution_count": 14,
   "metadata": {},
   "outputs": [
    {
     "name": "stdout",
     "output_type": "stream",
     "text": [
      "imdb_title_id is unique: True\n",
      "title is unique: False\n",
      "original_title is unique: False\n",
      "year is unique: False\n",
      "date_published is unique: False\n",
      "genre is unique: False\n",
      "duration is unique: False\n",
      "country is unique: False\n",
      "language is unique: False\n",
      "director is unique: False\n",
      "writer is unique: False\n",
      "production_company is unique: False\n",
      "actors is unique: False\n",
      "description is unique: False\n",
      "avg_vote is unique: False\n",
      "votes is unique: False\n",
      "budget is unique: False\n",
      "usa_gross_income is unique: False\n",
      "worlwide_gross_income is unique: False\n",
      "metascore is unique: False\n",
      "reviews_from_users is unique: False\n",
      "reviews_from_critics is unique: False\n"
     ]
    }
   ],
   "source": [
    "for i in column_names:\n",
    "  print('{} is unique: {}'.format(i, movies_df[i].is_unique))"
   ]
  },
  {
   "cell_type": "code",
   "execution_count": 15,
   "metadata": {},
   "outputs": [
    {
     "data": {
      "text/plain": [
       "array([    0,     1,     2, ..., 81270, 81271, 81272], dtype=int64)"
      ]
     },
     "execution_count": 15,
     "metadata": {},
     "output_type": "execute_result"
    }
   ],
   "source": [
    "movies_df.index.values"
   ]
  },
  {
   "cell_type": "code",
   "execution_count": 16,
   "metadata": {},
   "outputs": [],
   "source": [
    "del movies_df['usa_gross_income']"
   ]
  },
  {
   "cell_type": "code",
   "execution_count": 19,
   "metadata": {},
   "outputs": [],
   "source": [
    "del movies_df['worlwide_gross_income']"
   ]
  },
  {
   "cell_type": "code",
   "execution_count": 20,
   "metadata": {},
   "outputs": [],
   "source": [
    "del movies_df['metascore']"
   ]
  },
  {
   "cell_type": "code",
   "execution_count": 21,
   "metadata": {},
   "outputs": [],
   "source": [
    "del movies_df['budget']"
   ]
  },
  {
   "cell_type": "code",
   "execution_count": 22,
   "metadata": {},
   "outputs": [
    {
     "data": {
      "text/plain": [
       "imdb_title_id               0\n",
       "title                       0\n",
       "original_title              0\n",
       "year                        0\n",
       "date_published              0\n",
       "genre                       0\n",
       "duration                    0\n",
       "country                    39\n",
       "language                  755\n",
       "director                   73\n",
       "writer                   1493\n",
       "production_company       4325\n",
       "actors                     66\n",
       "description              2430\n",
       "avg_vote                    0\n",
       "votes                       0\n",
       "reviews_from_users       7077\n",
       "reviews_from_critics    10987\n",
       "dtype: int64"
      ]
     },
     "execution_count": 22,
     "metadata": {},
     "output_type": "execute_result"
    }
   ],
   "source": [
    "movies_df.isnull().sum()"
   ]
  },
  {
   "cell_type": "code",
   "execution_count": 24,
   "metadata": {},
   "outputs": [
    {
     "data": {
      "text/plain": [
       "27245"
      ]
     },
     "execution_count": 24,
     "metadata": {},
     "output_type": "execute_result"
    }
   ],
   "source": [
    "movies_df.isnull().sum().sum()"
   ]
  },
  {
   "cell_type": "code",
   "execution_count": 25,
   "metadata": {},
   "outputs": [
    {
     "name": "stdout",
     "output_type": "stream",
     "text": [
      "0         True\n",
      "1         True\n",
      "2        False\n",
      "3        False\n",
      "4        False\n",
      "         ...  \n",
      "81268    False\n",
      "81269    False\n",
      "81270    False\n",
      "81271    False\n",
      "81272    False\n",
      "Name: language, Length: 81273, dtype: bool\n"
     ]
    }
   ],
   "source": [
    "print (movies_df['language'].isnull())"
   ]
  },
  {
   "cell_type": "code",
   "execution_count": 26,
   "metadata": {},
   "outputs": [
    {
     "data": {
      "text/plain": [
       "count       80518\n",
       "unique       4251\n",
       "top       English\n",
       "freq        34519\n",
       "Name: language, dtype: object"
      ]
     },
     "execution_count": 26,
     "metadata": {},
     "output_type": "execute_result"
    }
   ],
   "source": [
    "movies_df['language'].describe()"
   ]
  },
  {
   "cell_type": "code",
   "execution_count": 27,
   "metadata": {},
   "outputs": [
    {
     "data": {
      "text/plain": [
       "0          English\n",
       "1          English\n",
       "2          English\n",
       "3          Italian\n",
       "4          English\n",
       "           ...    \n",
       "81268       Telugu\n",
       "81269    Malayalam\n",
       "81270    Malayalam\n",
       "81271    Malayalam\n",
       "81272      Turkish\n",
       "Name: language, Length: 81273, dtype: object"
      ]
     },
     "execution_count": 27,
     "metadata": {},
     "output_type": "execute_result"
    }
   ],
   "source": [
    "movies_df['language'].fillna('English',inplace = True)\n",
    "movies_df['language']"
   ]
  },
  {
   "cell_type": "code",
   "execution_count": 28,
   "metadata": {},
   "outputs": [
    {
     "data": {
      "text/plain": [
       "0                                   English\n",
       "3                                   Italian\n",
       "5                                    German\n",
       "9                                    Danish\n",
       "10                                   French\n",
       "                        ...                \n",
       "80991          English, Hungarian, Japanese\n",
       "81062               Italian, Polish, French\n",
       "81103             Tatar, Ukrainian, Russian\n",
       "81179                      Italian, Bengali\n",
       "81214    Thai, English, Mandarin, Cantonese\n",
       "Name: language, Length: 4251, dtype: object"
      ]
     },
     "execution_count": 28,
     "metadata": {},
     "output_type": "execute_result"
    }
   ],
   "source": [
    "movies_df['language'].drop_duplicates()"
   ]
  },
  {
   "cell_type": "code",
   "execution_count": 29,
   "metadata": {},
   "outputs": [
    {
     "data": {
      "text/plain": [
       "0                                           Australia\n",
       "1                                    Germany, Denmark\n",
       "2                                                 USA\n",
       "3                                               Italy\n",
       "5                                             Germany\n",
       "                             ...                     \n",
       "81130                 France, Algeria, Belgium, Qatar\n",
       "81157                                 China, Mongolia\n",
       "81184               Argentina, Germany, Brazil, Spain\n",
       "81185                             Indonesia, Malaysia\n",
       "81207    Sudan, France, Egypt, Germany, Norway, Qatar\n",
       "Name: country, Length: 4633, dtype: object"
      ]
     },
     "execution_count": 29,
     "metadata": {},
     "output_type": "execute_result"
    }
   ],
   "source": [
    "movies_df['country'].drop_duplicates()"
   ]
  },
  {
   "cell_type": "code",
   "execution_count": 30,
   "metadata": {},
   "outputs": [
    {
     "data": {
      "text/plain": [
       "count     81234\n",
       "unique     4632\n",
       "top         USA\n",
       "freq      27490\n",
       "Name: country, dtype: object"
      ]
     },
     "execution_count": 30,
     "metadata": {},
     "output_type": "execute_result"
    }
   ],
   "source": [
    "movies_df['country'].describe()"
   ]
  },
  {
   "cell_type": "code",
   "execution_count": 31,
   "metadata": {},
   "outputs": [
    {
     "data": {
      "text/plain": [
       "39"
      ]
     },
     "execution_count": 31,
     "metadata": {},
     "output_type": "execute_result"
    }
   ],
   "source": [
    "movies_df['country'].isnull().sum()"
   ]
  },
  {
   "cell_type": "code",
   "execution_count": 32,
   "metadata": {},
   "outputs": [
    {
     "data": {
      "text/plain": [
       "0               Australia\n",
       "1        Germany, Denmark\n",
       "2                     USA\n",
       "3                   Italy\n",
       "4                     USA\n",
       "               ...       \n",
       "81268               India\n",
       "81269               India\n",
       "81270               India\n",
       "81271               India\n",
       "81272              Turkey\n",
       "Name: country, Length: 81273, dtype: object"
      ]
     },
     "execution_count": 32,
     "metadata": {},
     "output_type": "execute_result"
    }
   ],
   "source": [
    "movies_df['country'].fillna('Unknown',inplace = True)\n",
    "movies_df['country']"
   ]
  },
  {
   "cell_type": "code",
   "execution_count": 33,
   "metadata": {},
   "outputs": [
    {
     "data": {
      "text/plain": [
       "0                                             Charles Tait\n",
       "1                                                Urban Gad\n",
       "2                                       Charles L. Gaskill\n",
       "3                      Francesco Bertolini, Adolfo Padovan\n",
       "4                                            Sidney Olcott\n",
       "                               ...                        \n",
       "81264    Adam Bin Amiruddin, Syed Nurfaiz Khalid bin Sy...\n",
       "81265                                     Robert Fernandez\n",
       "81268                                      Aswani Kumar V.\n",
       "81269                                                  Zam\n",
       "81271                                      Vineesh Aaradya\n",
       "Name: director, Length: 32545, dtype: object"
      ]
     },
     "execution_count": 33,
     "metadata": {},
     "output_type": "execute_result"
    }
   ],
   "source": [
    "movies_df['director'].drop_duplicates()"
   ]
  },
  {
   "cell_type": "code",
   "execution_count": 34,
   "metadata": {},
   "outputs": [
    {
     "data": {
      "text/plain": [
       "count              81200\n",
       "unique             32544\n",
       "top       Michael Curtiz\n",
       "freq                  86\n",
       "Name: director, dtype: object"
      ]
     },
     "execution_count": 34,
     "metadata": {},
     "output_type": "execute_result"
    }
   ],
   "source": [
    "movies_df['director'].describe()"
   ]
  },
  {
   "cell_type": "code",
   "execution_count": 35,
   "metadata": {},
   "outputs": [
    {
     "data": {
      "text/plain": [
       "73"
      ]
     },
     "execution_count": 35,
     "metadata": {},
     "output_type": "execute_result"
    }
   ],
   "source": [
    "movies_df['director'].isnull().sum()"
   ]
  },
  {
   "cell_type": "code",
   "execution_count": 36,
   "metadata": {},
   "outputs": [
    {
     "data": {
      "text/plain": [
       "0                               Charles Tait\n",
       "1                                  Urban Gad\n",
       "2                         Charles L. Gaskill\n",
       "3        Francesco Bertolini, Adolfo Padovan\n",
       "4                              Sidney Olcott\n",
       "                        ...                 \n",
       "81268                        Aswani Kumar V.\n",
       "81269                                    Zam\n",
       "81270                          T.V. Chandran\n",
       "81271                        Vineesh Aaradya\n",
       "81272                      Ahmet Faik Akinci\n",
       "Name: director, Length: 81273, dtype: object"
      ]
     },
     "execution_count": 36,
     "metadata": {},
     "output_type": "execute_result"
    }
   ],
   "source": [
    "movies_df['director'].fillna('Unknown',inplace = True)\n",
    "movies_df['director']"
   ]
  },
  {
   "cell_type": "code",
   "execution_count": 37,
   "metadata": {},
   "outputs": [
    {
     "data": {
      "text/plain": [
       "0                                 Charles Tait\n",
       "1        Urban Gad, Gebhard Schätzler-Perasini\n",
       "2                             Victorien Sardou\n",
       "3                              Dante Alighieri\n",
       "4                                Gene Gauntier\n",
       "                         ...                  \n",
       "81267                         Lokesh Kanagaraj\n",
       "81268                          Aswani Kumar V.\n",
       "81269                         Rajesh k Narayan\n",
       "81271         Vineesh Aaradya, Vineesh Aaradya\n",
       "81272           Ahmet Faik Akinci, Kasim Uçkan\n",
       "Name: writer, Length: 63336, dtype: object"
      ]
     },
     "execution_count": 37,
     "metadata": {},
     "output_type": "execute_result"
    }
   ],
   "source": [
    "movies_df['writer'].drop_duplicates()"
   ]
  },
  {
   "cell_type": "code",
   "execution_count": 38,
   "metadata": {},
   "outputs": [
    {
     "data": {
      "text/plain": [
       "count         79780\n",
       "unique        63335\n",
       "top       Jing Wong\n",
       "freq             81\n",
       "Name: writer, dtype: object"
      ]
     },
     "execution_count": 38,
     "metadata": {},
     "output_type": "execute_result"
    }
   ],
   "source": [
    "movies_df['writer'].describe()"
   ]
  },
  {
   "cell_type": "code",
   "execution_count": 39,
   "metadata": {},
   "outputs": [
    {
     "data": {
      "text/plain": [
       "1493"
      ]
     },
     "execution_count": 39,
     "metadata": {},
     "output_type": "execute_result"
    }
   ],
   "source": [
    "movies_df['writer'].isnull().sum()"
   ]
  },
  {
   "cell_type": "code",
   "execution_count": 41,
   "metadata": {},
   "outputs": [
    {
     "data": {
      "text/plain": [
       "0                                 Charles Tait\n",
       "1        Urban Gad, Gebhard Schätzler-Perasini\n",
       "2                             Victorien Sardou\n",
       "3                              Dante Alighieri\n",
       "4                                Gene Gauntier\n",
       "                         ...                  \n",
       "81268                          Aswani Kumar V.\n",
       "81269                         Rajesh k Narayan\n",
       "81270                            T.V. Chandran\n",
       "81271         Vineesh Aaradya, Vineesh Aaradya\n",
       "81272           Ahmet Faik Akinci, Kasim Uçkan\n",
       "Name: writer, Length: 81273, dtype: object"
      ]
     },
     "execution_count": 41,
     "metadata": {},
     "output_type": "execute_result"
    }
   ],
   "source": [
    "movies_df['writer'].fillna('Unknown',inplace = True)\n",
    "movies_df['writer']"
   ]
  },
  {
   "cell_type": "code",
   "execution_count": 42,
   "metadata": {},
   "outputs": [
    {
     "data": {
      "text/plain": [
       "0                       J. and N. Tait\n",
       "1                             Fotorama\n",
       "2        Helen Gardner Picture Players\n",
       "3                          Milano Film\n",
       "4                        Kalem Company\n",
       "                     ...              \n",
       "81268              Ekaa Art Production\n",
       "81269          Thomas Thiruvalla Films\n",
       "81270                Benzy Productions\n",
       "81271                 RMCC Productions\n",
       "81272                      Gizem Ajans\n",
       "Name: production_company, Length: 30123, dtype: object"
      ]
     },
     "execution_count": 42,
     "metadata": {},
     "output_type": "execute_result"
    }
   ],
   "source": [
    "movies_df['production_company'].drop_duplicates()"
   ]
  },
  {
   "cell_type": "code",
   "execution_count": 43,
   "metadata": {},
   "outputs": [
    {
     "data": {
      "text/plain": [
       "count                         76948\n",
       "unique                        30122\n",
       "top       Metro-Goldwyn-Mayer (MGM)\n",
       "freq                           1290\n",
       "Name: production_company, dtype: object"
      ]
     },
     "execution_count": 43,
     "metadata": {},
     "output_type": "execute_result"
    }
   ],
   "source": [
    "movies_df['production_company'].describe()"
   ]
  },
  {
   "cell_type": "code",
   "execution_count": 44,
   "metadata": {},
   "outputs": [
    {
     "data": {
      "text/plain": [
       "4325"
      ]
     },
     "execution_count": 44,
     "metadata": {},
     "output_type": "execute_result"
    }
   ],
   "source": [
    "movies_df['production_company'].isnull().sum()"
   ]
  },
  {
   "cell_type": "code",
   "execution_count": 45,
   "metadata": {},
   "outputs": [
    {
     "data": {
      "text/plain": [
       "0                       J. and N. Tait\n",
       "1                             Fotorama\n",
       "2        Helen Gardner Picture Players\n",
       "3                          Milano Film\n",
       "4                        Kalem Company\n",
       "                     ...              \n",
       "81268              Ekaa Art Production\n",
       "81269          Thomas Thiruvalla Films\n",
       "81270                Benzy Productions\n",
       "81271                 RMCC Productions\n",
       "81272                      Gizem Ajans\n",
       "Name: production_company, Length: 81273, dtype: object"
      ]
     },
     "execution_count": 45,
     "metadata": {},
     "output_type": "execute_result"
    }
   ],
   "source": [
    "movies_df['production_company'].fillna('Unknown',inplace = True)\n",
    "movies_df['production_company']"
   ]
  },
  {
   "cell_type": "code",
   "execution_count": 46,
   "metadata": {},
   "outputs": [
    {
     "data": {
      "text/plain": [
       "0        Elizabeth Tait, John Tait, Norman Campbell, Be...\n",
       "1        Asta Nielsen, Valdemar Psilander, Gunnar Helse...\n",
       "2        Helen Gardner, Pearl Sindelar, Miss Fielding, ...\n",
       "3        Salvatore Papa, Arturo Pirovano, Giuseppe de L...\n",
       "4        R. Henderson Bland, Percy Dyer, Gene Gauntier,...\n",
       "                               ...                        \n",
       "81268    Sritha Chandana, Pavani Gangireddy, Abhinav Go...\n",
       "81269    Nandu Anand, Roshan Ullas, Manikandan R. Achar...\n",
       "81270    Lal, Akshara Kishor, Iniya, Narain, Renji Pani...\n",
       "81271    Anoop Chandran, Indrans, Sona Nair, Simon Brit...\n",
       "81272    Ahmet Faik Akinci, Belma Mamati, Metin Keçeci,...\n",
       "Name: actors, Length: 81160, dtype: object"
      ]
     },
     "execution_count": 46,
     "metadata": {},
     "output_type": "execute_result"
    }
   ],
   "source": [
    "movies_df['actors'].drop_duplicates()"
   ]
  },
  {
   "cell_type": "code",
   "execution_count": 47,
   "metadata": {},
   "outputs": [
    {
     "data": {
      "text/plain": [
       "count                                                 81207\n",
       "unique                                                81159\n",
       "top       Nobuyo Ôyama, Noriko Ohara, Michiko Nomura, Ka...\n",
       "freq                                                     13\n",
       "Name: actors, dtype: object"
      ]
     },
     "execution_count": 47,
     "metadata": {},
     "output_type": "execute_result"
    }
   ],
   "source": [
    "movies_df['actors'].describe()"
   ]
  },
  {
   "cell_type": "code",
   "execution_count": 48,
   "metadata": {},
   "outputs": [
    {
     "data": {
      "text/plain": [
       "66"
      ]
     },
     "execution_count": 48,
     "metadata": {},
     "output_type": "execute_result"
    }
   ],
   "source": [
    "movies_df['actors'].isnull().sum()"
   ]
  },
  {
   "cell_type": "code",
   "execution_count": 49,
   "metadata": {},
   "outputs": [
    {
     "data": {
      "text/plain": [
       "0        Elizabeth Tait, John Tait, Norman Campbell, Be...\n",
       "1        Asta Nielsen, Valdemar Psilander, Gunnar Helse...\n",
       "2        Helen Gardner, Pearl Sindelar, Miss Fielding, ...\n",
       "3        Salvatore Papa, Arturo Pirovano, Giuseppe de L...\n",
       "4        R. Henderson Bland, Percy Dyer, Gene Gauntier,...\n",
       "                               ...                        \n",
       "81268    Sritha Chandana, Pavani Gangireddy, Abhinav Go...\n",
       "81269    Nandu Anand, Roshan Ullas, Manikandan R. Achar...\n",
       "81270    Lal, Akshara Kishor, Iniya, Narain, Renji Pani...\n",
       "81271    Anoop Chandran, Indrans, Sona Nair, Simon Brit...\n",
       "81272    Ahmet Faik Akinci, Belma Mamati, Metin Keçeci,...\n",
       "Name: actors, Length: 81273, dtype: object"
      ]
     },
     "execution_count": 49,
     "metadata": {},
     "output_type": "execute_result"
    }
   ],
   "source": [
    "movies_df['actors'].fillna('Unknown',inplace = True)\n",
    "movies_df['actors']"
   ]
  },
  {
   "cell_type": "code",
   "execution_count": 50,
   "metadata": {},
   "outputs": [
    {
     "data": {
      "text/plain": [
       "0        True story of notorious Australian outlaw Ned ...\n",
       "1        Two men of high rank are both wooing the beaut...\n",
       "2        The fabled queen of Egypt's affair with Roman ...\n",
       "3        Loosely adapted from Dante's Divine Comedy and...\n",
       "4        An account of the life of Jesus Christ, based ...\n",
       "                               ...                        \n",
       "81266    A rich family are deciding to immigrate to the...\n",
       "81267    A drug bust, an injured cop and a convicted cr...\n",
       "81268    Set in an abandoned house, the film follows a ...\n",
       "81269    Set in Trivandrum, the story of Ottam unfolds ...\n",
       "81270    An unusual bond between a sixty year old Dalit...\n",
       "Name: description, Length: 78728, dtype: object"
      ]
     },
     "execution_count": 50,
     "metadata": {},
     "output_type": "execute_result"
    }
   ],
   "source": [
    "movies_df['description'].drop_duplicates()"
   ]
  },
  {
   "cell_type": "code",
   "execution_count": 51,
   "metadata": {},
   "outputs": [
    {
     "data": {
      "text/plain": [
       "count            78843\n",
       "unique           78727\n",
       "top       The story of\n",
       "freq                11\n",
       "Name: description, dtype: object"
      ]
     },
     "execution_count": 51,
     "metadata": {},
     "output_type": "execute_result"
    }
   ],
   "source": [
    "movies_df['description'].describe()"
   ]
  },
  {
   "cell_type": "code",
   "execution_count": 52,
   "metadata": {},
   "outputs": [
    {
     "data": {
      "text/plain": [
       "2430"
      ]
     },
     "execution_count": 52,
     "metadata": {},
     "output_type": "execute_result"
    }
   ],
   "source": [
    "movies_df['description'].isnull().sum()"
   ]
  },
  {
   "cell_type": "code",
   "execution_count": 53,
   "metadata": {},
   "outputs": [
    {
     "data": {
      "text/plain": [
       "0        True story of notorious Australian outlaw Ned ...\n",
       "1        Two men of high rank are both wooing the beaut...\n",
       "2        The fabled queen of Egypt's affair with Roman ...\n",
       "3        Loosely adapted from Dante's Divine Comedy and...\n",
       "4        An account of the life of Jesus Christ, based ...\n",
       "                               ...                        \n",
       "81268    Set in an abandoned house, the film follows a ...\n",
       "81269    Set in Trivandrum, the story of Ottam unfolds ...\n",
       "81270    An unusual bond between a sixty year old Dalit...\n",
       "81271                                              Unknown\n",
       "81272                                              Unknown\n",
       "Name: description, Length: 81273, dtype: object"
      ]
     },
     "execution_count": 53,
     "metadata": {},
     "output_type": "execute_result"
    }
   ],
   "source": [
    "movies_df['description'].fillna('Unknown',inplace = True)\n",
    "movies_df['description']"
   ]
  },
  {
   "cell_type": "code",
   "execution_count": 54,
   "metadata": {},
   "outputs": [
    {
     "data": {
      "text/plain": [
       "0         7.0\n",
       "1         4.0\n",
       "2        24.0\n",
       "3        28.0\n",
       "4        12.0\n",
       "         ... \n",
       "81268    21.0\n",
       "81269     9.0\n",
       "81270     9.0\n",
       "81271     9.0\n",
       "81272     9.0\n",
       "Name: reviews_from_users, Length: 81273, dtype: float64"
      ]
     },
     "execution_count": 54,
     "metadata": {},
     "output_type": "execute_result"
    }
   ],
   "source": [
    "Review = movies_df['reviews_from_users'].median()\n",
    "movies_df['reviews_from_users'].fillna(Review,inplace = True)\n",
    "movies_df['reviews_from_users']"
   ]
  },
  {
   "cell_type": "code",
   "execution_count": 55,
   "metadata": {},
   "outputs": [
    {
     "data": {
      "text/plain": [
       "0         7.0\n",
       "1         2.0\n",
       "2         3.0\n",
       "3        14.0\n",
       "4         5.0\n",
       "         ... \n",
       "81268     8.0\n",
       "81269     8.0\n",
       "81270     8.0\n",
       "81271     8.0\n",
       "81272     8.0\n",
       "Name: reviews_from_critics, Length: 81273, dtype: float64"
      ]
     },
     "execution_count": 55,
     "metadata": {},
     "output_type": "execute_result"
    }
   ],
   "source": [
    "Review = movies_df['reviews_from_critics'].median()\n",
    "movies_df['reviews_from_critics'].fillna(Review,inplace = True)\n",
    "movies_df['reviews_from_critics']"
   ]
  },
  {
   "cell_type": "code",
   "execution_count": 56,
   "metadata": {},
   "outputs": [
    {
     "data": {
      "text/plain": [
       "imdb_title_id           0\n",
       "title                   0\n",
       "original_title          0\n",
       "year                    0\n",
       "date_published          0\n",
       "genre                   0\n",
       "duration                0\n",
       "country                 0\n",
       "language                0\n",
       "director                0\n",
       "writer                  0\n",
       "production_company      0\n",
       "actors                  0\n",
       "description             0\n",
       "avg_vote                0\n",
       "votes                   0\n",
       "reviews_from_users      0\n",
       "reviews_from_critics    0\n",
       "dtype: int64"
      ]
     },
     "execution_count": 56,
     "metadata": {},
     "output_type": "execute_result"
    }
   ],
   "source": [
    "movies_df.isnull().sum()"
   ]
  },
  {
   "cell_type": "code",
   "execution_count": 57,
   "metadata": {},
   "outputs": [
    {
     "data": {
      "text/html": [
       "<div>\n",
       "<style scoped>\n",
       "    .dataframe tbody tr th:only-of-type {\n",
       "        vertical-align: middle;\n",
       "    }\n",
       "\n",
       "    .dataframe tbody tr th {\n",
       "        vertical-align: top;\n",
       "    }\n",
       "\n",
       "    .dataframe thead th {\n",
       "        text-align: right;\n",
       "    }\n",
       "</style>\n",
       "<table border=\"1\" class=\"dataframe\">\n",
       "  <thead>\n",
       "    <tr style=\"text-align: right;\">\n",
       "      <th></th>\n",
       "      <th>imdb_title_id</th>\n",
       "      <th>title</th>\n",
       "      <th>original_title</th>\n",
       "      <th>year</th>\n",
       "      <th>date_published</th>\n",
       "      <th>genre</th>\n",
       "      <th>duration</th>\n",
       "      <th>country</th>\n",
       "      <th>language</th>\n",
       "      <th>director</th>\n",
       "      <th>writer</th>\n",
       "      <th>production_company</th>\n",
       "      <th>actors</th>\n",
       "      <th>description</th>\n",
       "      <th>avg_vote</th>\n",
       "      <th>votes</th>\n",
       "      <th>reviews_from_users</th>\n",
       "      <th>reviews_from_critics</th>\n",
       "    </tr>\n",
       "  </thead>\n",
       "  <tbody>\n",
       "    <tr>\n",
       "      <th>0</th>\n",
       "      <td>tt0000574</td>\n",
       "      <td>The Story of the Kelly Gang</td>\n",
       "      <td>The Story of the Kelly Gang</td>\n",
       "      <td>1906</td>\n",
       "      <td>1906-12-26</td>\n",
       "      <td>Biography, Crime, Drama</td>\n",
       "      <td>70</td>\n",
       "      <td>Australia</td>\n",
       "      <td>English</td>\n",
       "      <td>Charles Tait</td>\n",
       "      <td>Charles Tait</td>\n",
       "      <td>J. and N. Tait</td>\n",
       "      <td>Elizabeth Tait, John Tait, Norman Campbell, Be...</td>\n",
       "      <td>True story of notorious Australian outlaw Ned ...</td>\n",
       "      <td>6.1</td>\n",
       "      <td>537</td>\n",
       "      <td>7.0</td>\n",
       "      <td>7.0</td>\n",
       "    </tr>\n",
       "    <tr>\n",
       "      <th>1</th>\n",
       "      <td>tt0001892</td>\n",
       "      <td>Den sorte drøm</td>\n",
       "      <td>Den sorte drøm</td>\n",
       "      <td>1911</td>\n",
       "      <td>1911-08-19</td>\n",
       "      <td>Drama</td>\n",
       "      <td>53</td>\n",
       "      <td>Germany, Denmark</td>\n",
       "      <td>English</td>\n",
       "      <td>Urban Gad</td>\n",
       "      <td>Urban Gad, Gebhard Schätzler-Perasini</td>\n",
       "      <td>Fotorama</td>\n",
       "      <td>Asta Nielsen, Valdemar Psilander, Gunnar Helse...</td>\n",
       "      <td>Two men of high rank are both wooing the beaut...</td>\n",
       "      <td>5.9</td>\n",
       "      <td>171</td>\n",
       "      <td>4.0</td>\n",
       "      <td>2.0</td>\n",
       "    </tr>\n",
       "    <tr>\n",
       "      <th>2</th>\n",
       "      <td>tt0002101</td>\n",
       "      <td>Cleopatra</td>\n",
       "      <td>Cleopatra</td>\n",
       "      <td>1912</td>\n",
       "      <td>1912-11-13</td>\n",
       "      <td>Drama, History</td>\n",
       "      <td>100</td>\n",
       "      <td>USA</td>\n",
       "      <td>English</td>\n",
       "      <td>Charles L. Gaskill</td>\n",
       "      <td>Victorien Sardou</td>\n",
       "      <td>Helen Gardner Picture Players</td>\n",
       "      <td>Helen Gardner, Pearl Sindelar, Miss Fielding, ...</td>\n",
       "      <td>The fabled queen of Egypt's affair with Roman ...</td>\n",
       "      <td>5.2</td>\n",
       "      <td>420</td>\n",
       "      <td>24.0</td>\n",
       "      <td>3.0</td>\n",
       "    </tr>\n",
       "    <tr>\n",
       "      <th>3</th>\n",
       "      <td>tt0002130</td>\n",
       "      <td>L'Inferno</td>\n",
       "      <td>L'Inferno</td>\n",
       "      <td>1911</td>\n",
       "      <td>1911-03-06</td>\n",
       "      <td>Adventure, Drama, Fantasy</td>\n",
       "      <td>68</td>\n",
       "      <td>Italy</td>\n",
       "      <td>Italian</td>\n",
       "      <td>Francesco Bertolini, Adolfo Padovan</td>\n",
       "      <td>Dante Alighieri</td>\n",
       "      <td>Milano Film</td>\n",
       "      <td>Salvatore Papa, Arturo Pirovano, Giuseppe de L...</td>\n",
       "      <td>Loosely adapted from Dante's Divine Comedy and...</td>\n",
       "      <td>7.0</td>\n",
       "      <td>2019</td>\n",
       "      <td>28.0</td>\n",
       "      <td>14.0</td>\n",
       "    </tr>\n",
       "    <tr>\n",
       "      <th>4</th>\n",
       "      <td>tt0002199</td>\n",
       "      <td>From the Manger to the Cross; or, Jesus of Naz...</td>\n",
       "      <td>From the Manger to the Cross; or, Jesus of Naz...</td>\n",
       "      <td>1912</td>\n",
       "      <td>1913</td>\n",
       "      <td>Biography, Drama</td>\n",
       "      <td>60</td>\n",
       "      <td>USA</td>\n",
       "      <td>English</td>\n",
       "      <td>Sidney Olcott</td>\n",
       "      <td>Gene Gauntier</td>\n",
       "      <td>Kalem Company</td>\n",
       "      <td>R. Henderson Bland, Percy Dyer, Gene Gauntier,...</td>\n",
       "      <td>An account of the life of Jesus Christ, based ...</td>\n",
       "      <td>5.7</td>\n",
       "      <td>438</td>\n",
       "      <td>12.0</td>\n",
       "      <td>5.0</td>\n",
       "    </tr>\n",
       "    <tr>\n",
       "      <th>...</th>\n",
       "      <td>...</td>\n",
       "      <td>...</td>\n",
       "      <td>...</td>\n",
       "      <td>...</td>\n",
       "      <td>...</td>\n",
       "      <td>...</td>\n",
       "      <td>...</td>\n",
       "      <td>...</td>\n",
       "      <td>...</td>\n",
       "      <td>...</td>\n",
       "      <td>...</td>\n",
       "      <td>...</td>\n",
       "      <td>...</td>\n",
       "      <td>...</td>\n",
       "      <td>...</td>\n",
       "      <td>...</td>\n",
       "      <td>...</td>\n",
       "      <td>...</td>\n",
       "    </tr>\n",
       "    <tr>\n",
       "      <th>81268</th>\n",
       "      <td>tt9903716</td>\n",
       "      <td>Jessie</td>\n",
       "      <td>Jessie</td>\n",
       "      <td>2019</td>\n",
       "      <td>2019-03-15</td>\n",
       "      <td>Horror, Thriller</td>\n",
       "      <td>106</td>\n",
       "      <td>India</td>\n",
       "      <td>Telugu</td>\n",
       "      <td>Aswani Kumar V.</td>\n",
       "      <td>Aswani Kumar V.</td>\n",
       "      <td>Ekaa Art Production</td>\n",
       "      <td>Sritha Chandana, Pavani Gangireddy, Abhinav Go...</td>\n",
       "      <td>Set in an abandoned house, the film follows a ...</td>\n",
       "      <td>7.2</td>\n",
       "      <td>219</td>\n",
       "      <td>21.0</td>\n",
       "      <td>8.0</td>\n",
       "    </tr>\n",
       "    <tr>\n",
       "      <th>81269</th>\n",
       "      <td>tt9905412</td>\n",
       "      <td>Ottam</td>\n",
       "      <td>Ottam</td>\n",
       "      <td>2019</td>\n",
       "      <td>2019-03-08</td>\n",
       "      <td>Drama</td>\n",
       "      <td>120</td>\n",
       "      <td>India</td>\n",
       "      <td>Malayalam</td>\n",
       "      <td>Zam</td>\n",
       "      <td>Rajesh k Narayan</td>\n",
       "      <td>Thomas Thiruvalla Films</td>\n",
       "      <td>Nandu Anand, Roshan Ullas, Manikandan R. Achar...</td>\n",
       "      <td>Set in Trivandrum, the story of Ottam unfolds ...</td>\n",
       "      <td>7.8</td>\n",
       "      <td>510</td>\n",
       "      <td>9.0</td>\n",
       "      <td>8.0</td>\n",
       "    </tr>\n",
       "    <tr>\n",
       "      <th>81270</th>\n",
       "      <td>tt9905462</td>\n",
       "      <td>Pengalila</td>\n",
       "      <td>Pengalila</td>\n",
       "      <td>2019</td>\n",
       "      <td>2019-03-08</td>\n",
       "      <td>Drama</td>\n",
       "      <td>111</td>\n",
       "      <td>India</td>\n",
       "      <td>Malayalam</td>\n",
       "      <td>T.V. Chandran</td>\n",
       "      <td>T.V. Chandran</td>\n",
       "      <td>Benzy Productions</td>\n",
       "      <td>Lal, Akshara Kishor, Iniya, Narain, Renji Pani...</td>\n",
       "      <td>An unusual bond between a sixty year old Dalit...</td>\n",
       "      <td>8.4</td>\n",
       "      <td>604</td>\n",
       "      <td>9.0</td>\n",
       "      <td>8.0</td>\n",
       "    </tr>\n",
       "    <tr>\n",
       "      <th>81271</th>\n",
       "      <td>tt9911774</td>\n",
       "      <td>Padmavyuhathile Abhimanyu</td>\n",
       "      <td>Padmavyuhathile Abhimanyu</td>\n",
       "      <td>2019</td>\n",
       "      <td>2019-03-08</td>\n",
       "      <td>Drama</td>\n",
       "      <td>130</td>\n",
       "      <td>India</td>\n",
       "      <td>Malayalam</td>\n",
       "      <td>Vineesh Aaradya</td>\n",
       "      <td>Vineesh Aaradya, Vineesh Aaradya</td>\n",
       "      <td>RMCC Productions</td>\n",
       "      <td>Anoop Chandran, Indrans, Sona Nair, Simon Brit...</td>\n",
       "      <td>Unknown</td>\n",
       "      <td>8.4</td>\n",
       "      <td>369</td>\n",
       "      <td>9.0</td>\n",
       "      <td>8.0</td>\n",
       "    </tr>\n",
       "    <tr>\n",
       "      <th>81272</th>\n",
       "      <td>tt9914286</td>\n",
       "      <td>Sokagin Çocuklari</td>\n",
       "      <td>Sokagin Çocuklari</td>\n",
       "      <td>2019</td>\n",
       "      <td>2019-03-15</td>\n",
       "      <td>Drama, Family</td>\n",
       "      <td>98</td>\n",
       "      <td>Turkey</td>\n",
       "      <td>Turkish</td>\n",
       "      <td>Ahmet Faik Akinci</td>\n",
       "      <td>Ahmet Faik Akinci, Kasim Uçkan</td>\n",
       "      <td>Gizem Ajans</td>\n",
       "      <td>Ahmet Faik Akinci, Belma Mamati, Metin Keçeci,...</td>\n",
       "      <td>Unknown</td>\n",
       "      <td>7.2</td>\n",
       "      <td>190</td>\n",
       "      <td>9.0</td>\n",
       "      <td>8.0</td>\n",
       "    </tr>\n",
       "  </tbody>\n",
       "</table>\n",
       "<p>81273 rows × 18 columns</p>\n",
       "</div>"
      ],
      "text/plain": [
       "      imdb_title_id                                              title  \\\n",
       "0         tt0000574                        The Story of the Kelly Gang   \n",
       "1         tt0001892                                     Den sorte drøm   \n",
       "2         tt0002101                                          Cleopatra   \n",
       "3         tt0002130                                          L'Inferno   \n",
       "4         tt0002199  From the Manger to the Cross; or, Jesus of Naz...   \n",
       "...             ...                                                ...   \n",
       "81268     tt9903716                                             Jessie   \n",
       "81269     tt9905412                                              Ottam   \n",
       "81270     tt9905462                                          Pengalila   \n",
       "81271     tt9911774                          Padmavyuhathile Abhimanyu   \n",
       "81272     tt9914286                                  Sokagin Çocuklari   \n",
       "\n",
       "                                          original_title  year date_published  \\\n",
       "0                            The Story of the Kelly Gang  1906     1906-12-26   \n",
       "1                                         Den sorte drøm  1911     1911-08-19   \n",
       "2                                              Cleopatra  1912     1912-11-13   \n",
       "3                                              L'Inferno  1911     1911-03-06   \n",
       "4      From the Manger to the Cross; or, Jesus of Naz...  1912           1913   \n",
       "...                                                  ...   ...            ...   \n",
       "81268                                             Jessie  2019     2019-03-15   \n",
       "81269                                              Ottam  2019     2019-03-08   \n",
       "81270                                          Pengalila  2019     2019-03-08   \n",
       "81271                          Padmavyuhathile Abhimanyu  2019     2019-03-08   \n",
       "81272                                  Sokagin Çocuklari  2019     2019-03-15   \n",
       "\n",
       "                           genre  duration           country   language  \\\n",
       "0        Biography, Crime, Drama        70         Australia    English   \n",
       "1                          Drama        53  Germany, Denmark    English   \n",
       "2                 Drama, History       100               USA    English   \n",
       "3      Adventure, Drama, Fantasy        68             Italy    Italian   \n",
       "4               Biography, Drama        60               USA    English   \n",
       "...                          ...       ...               ...        ...   \n",
       "81268           Horror, Thriller       106             India     Telugu   \n",
       "81269                      Drama       120             India  Malayalam   \n",
       "81270                      Drama       111             India  Malayalam   \n",
       "81271                      Drama       130             India  Malayalam   \n",
       "81272              Drama, Family        98            Turkey    Turkish   \n",
       "\n",
       "                                  director  \\\n",
       "0                             Charles Tait   \n",
       "1                                Urban Gad   \n",
       "2                       Charles L. Gaskill   \n",
       "3      Francesco Bertolini, Adolfo Padovan   \n",
       "4                            Sidney Olcott   \n",
       "...                                    ...   \n",
       "81268                      Aswani Kumar V.   \n",
       "81269                                  Zam   \n",
       "81270                        T.V. Chandran   \n",
       "81271                      Vineesh Aaradya   \n",
       "81272                    Ahmet Faik Akinci   \n",
       "\n",
       "                                      writer             production_company  \\\n",
       "0                               Charles Tait                 J. and N. Tait   \n",
       "1      Urban Gad, Gebhard Schätzler-Perasini                       Fotorama   \n",
       "2                           Victorien Sardou  Helen Gardner Picture Players   \n",
       "3                            Dante Alighieri                    Milano Film   \n",
       "4                              Gene Gauntier                  Kalem Company   \n",
       "...                                      ...                            ...   \n",
       "81268                        Aswani Kumar V.            Ekaa Art Production   \n",
       "81269                       Rajesh k Narayan        Thomas Thiruvalla Films   \n",
       "81270                          T.V. Chandran              Benzy Productions   \n",
       "81271       Vineesh Aaradya, Vineesh Aaradya               RMCC Productions   \n",
       "81272         Ahmet Faik Akinci, Kasim Uçkan                    Gizem Ajans   \n",
       "\n",
       "                                                  actors  \\\n",
       "0      Elizabeth Tait, John Tait, Norman Campbell, Be...   \n",
       "1      Asta Nielsen, Valdemar Psilander, Gunnar Helse...   \n",
       "2      Helen Gardner, Pearl Sindelar, Miss Fielding, ...   \n",
       "3      Salvatore Papa, Arturo Pirovano, Giuseppe de L...   \n",
       "4      R. Henderson Bland, Percy Dyer, Gene Gauntier,...   \n",
       "...                                                  ...   \n",
       "81268  Sritha Chandana, Pavani Gangireddy, Abhinav Go...   \n",
       "81269  Nandu Anand, Roshan Ullas, Manikandan R. Achar...   \n",
       "81270  Lal, Akshara Kishor, Iniya, Narain, Renji Pani...   \n",
       "81271  Anoop Chandran, Indrans, Sona Nair, Simon Brit...   \n",
       "81272  Ahmet Faik Akinci, Belma Mamati, Metin Keçeci,...   \n",
       "\n",
       "                                             description  avg_vote  votes  \\\n",
       "0      True story of notorious Australian outlaw Ned ...       6.1    537   \n",
       "1      Two men of high rank are both wooing the beaut...       5.9    171   \n",
       "2      The fabled queen of Egypt's affair with Roman ...       5.2    420   \n",
       "3      Loosely adapted from Dante's Divine Comedy and...       7.0   2019   \n",
       "4      An account of the life of Jesus Christ, based ...       5.7    438   \n",
       "...                                                  ...       ...    ...   \n",
       "81268  Set in an abandoned house, the film follows a ...       7.2    219   \n",
       "81269  Set in Trivandrum, the story of Ottam unfolds ...       7.8    510   \n",
       "81270  An unusual bond between a sixty year old Dalit...       8.4    604   \n",
       "81271                                            Unknown       8.4    369   \n",
       "81272                                            Unknown       7.2    190   \n",
       "\n",
       "       reviews_from_users  reviews_from_critics  \n",
       "0                     7.0                   7.0  \n",
       "1                     4.0                   2.0  \n",
       "2                    24.0                   3.0  \n",
       "3                    28.0                  14.0  \n",
       "4                    12.0                   5.0  \n",
       "...                   ...                   ...  \n",
       "81268                21.0                   8.0  \n",
       "81269                 9.0                   8.0  \n",
       "81270                 9.0                   8.0  \n",
       "81271                 9.0                   8.0  \n",
       "81272                 9.0                   8.0  \n",
       "\n",
       "[81273 rows x 18 columns]"
      ]
     },
     "execution_count": 57,
     "metadata": {},
     "output_type": "execute_result"
    }
   ],
   "source": [
    "movies_df"
   ]
  },
  {
   "cell_type": "code",
   "execution_count": 58,
   "metadata": {},
   "outputs": [
    {
     "data": {
      "text/html": [
       "<div>\n",
       "<style scoped>\n",
       "    .dataframe tbody tr th:only-of-type {\n",
       "        vertical-align: middle;\n",
       "    }\n",
       "\n",
       "    .dataframe tbody tr th {\n",
       "        vertical-align: top;\n",
       "    }\n",
       "\n",
       "    .dataframe thead th {\n",
       "        text-align: right;\n",
       "    }\n",
       "</style>\n",
       "<table border=\"1\" class=\"dataframe\">\n",
       "  <thead>\n",
       "    <tr style=\"text-align: right;\">\n",
       "      <th></th>\n",
       "      <th>year</th>\n",
       "      <th>duration</th>\n",
       "      <th>avg_vote</th>\n",
       "      <th>votes</th>\n",
       "      <th>reviews_from_users</th>\n",
       "      <th>reviews_from_critics</th>\n",
       "    </tr>\n",
       "  </thead>\n",
       "  <tbody>\n",
       "    <tr>\n",
       "      <th>count</th>\n",
       "      <td>81273.000000</td>\n",
       "      <td>81273.000000</td>\n",
       "      <td>81273.000000</td>\n",
       "      <td>8.127300e+04</td>\n",
       "      <td>81273.000000</td>\n",
       "      <td>81273.000000</td>\n",
       "    </tr>\n",
       "    <tr>\n",
       "      <th>mean</th>\n",
       "      <td>1993.007210</td>\n",
       "      <td>100.565981</td>\n",
       "      <td>5.926587</td>\n",
       "      <td>9.421771e+03</td>\n",
       "      <td>40.726994</td>\n",
       "      <td>25.290010</td>\n",
       "    </tr>\n",
       "    <tr>\n",
       "      <th>std</th>\n",
       "      <td>23.992284</td>\n",
       "      <td>25.320189</td>\n",
       "      <td>1.243315</td>\n",
       "      <td>5.220245e+04</td>\n",
       "      <td>153.096881</td>\n",
       "      <td>55.022677</td>\n",
       "    </tr>\n",
       "    <tr>\n",
       "      <th>min</th>\n",
       "      <td>1906.000000</td>\n",
       "      <td>40.000000</td>\n",
       "      <td>1.000000</td>\n",
       "      <td>9.900000e+01</td>\n",
       "      <td>1.000000</td>\n",
       "      <td>1.000000</td>\n",
       "    </tr>\n",
       "    <tr>\n",
       "      <th>25%</th>\n",
       "      <td>1979.000000</td>\n",
       "      <td>88.000000</td>\n",
       "      <td>5.200000</td>\n",
       "      <td>2.060000e+02</td>\n",
       "      <td>4.000000</td>\n",
       "      <td>4.000000</td>\n",
       "    </tr>\n",
       "    <tr>\n",
       "      <th>50%</th>\n",
       "      <td>2002.000000</td>\n",
       "      <td>96.000000</td>\n",
       "      <td>6.100000</td>\n",
       "      <td>4.950000e+02</td>\n",
       "      <td>9.000000</td>\n",
       "      <td>8.000000</td>\n",
       "    </tr>\n",
       "    <tr>\n",
       "      <th>75%</th>\n",
       "      <td>2012.000000</td>\n",
       "      <td>108.000000</td>\n",
       "      <td>6.800000</td>\n",
       "      <td>1.865000e+03</td>\n",
       "      <td>23.000000</td>\n",
       "      <td>20.000000</td>\n",
       "    </tr>\n",
       "    <tr>\n",
       "      <th>max</th>\n",
       "      <td>2019.000000</td>\n",
       "      <td>3360.000000</td>\n",
       "      <td>10.000000</td>\n",
       "      <td>2.159628e+06</td>\n",
       "      <td>8302.000000</td>\n",
       "      <td>987.000000</td>\n",
       "    </tr>\n",
       "  </tbody>\n",
       "</table>\n",
       "</div>"
      ],
      "text/plain": [
       "               year      duration      avg_vote         votes  \\\n",
       "count  81273.000000  81273.000000  81273.000000  8.127300e+04   \n",
       "mean    1993.007210    100.565981      5.926587  9.421771e+03   \n",
       "std       23.992284     25.320189      1.243315  5.220245e+04   \n",
       "min     1906.000000     40.000000      1.000000  9.900000e+01   \n",
       "25%     1979.000000     88.000000      5.200000  2.060000e+02   \n",
       "50%     2002.000000     96.000000      6.100000  4.950000e+02   \n",
       "75%     2012.000000    108.000000      6.800000  1.865000e+03   \n",
       "max     2019.000000   3360.000000     10.000000  2.159628e+06   \n",
       "\n",
       "       reviews_from_users  reviews_from_critics  \n",
       "count        81273.000000          81273.000000  \n",
       "mean            40.726994             25.290010  \n",
       "std            153.096881             55.022677  \n",
       "min              1.000000              1.000000  \n",
       "25%              4.000000              4.000000  \n",
       "50%              9.000000              8.000000  \n",
       "75%             23.000000             20.000000  \n",
       "max           8302.000000            987.000000  "
      ]
     },
     "execution_count": 58,
     "metadata": {},
     "output_type": "execute_result"
    }
   ],
   "source": [
    "movies_df.describe()"
   ]
  },
  {
   "cell_type": "code",
   "execution_count": null,
   "metadata": {},
   "outputs": [],
   "source": []
  }
 ],
 "metadata": {
  "kernelspec": {
   "display_name": "Python 3",
   "language": "python",
   "name": "python3"
  },
  "language_info": {
   "codemirror_mode": {
    "name": "ipython",
    "version": 3
   },
   "file_extension": ".py",
   "mimetype": "text/x-python",
   "name": "python",
   "nbconvert_exporter": "python",
   "pygments_lexer": "ipython3",
   "version": "3.8.3"
  }
 },
 "nbformat": 4,
 "nbformat_minor": 4
}
